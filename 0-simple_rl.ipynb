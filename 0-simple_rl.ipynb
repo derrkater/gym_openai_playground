{
 "cells": [
  {
   "cell_type": "markdown",
   "metadata": {},
   "source": [
    "https://medium.com/emergent-future/simple-reinforcement-learning-with-tensorflow-part-0-q-learning-with-tables-and-neural-networks-d195264329d0"
   ]
  },
  {
   "cell_type": "code",
   "execution_count": 3,
   "metadata": {},
   "outputs": [],
   "source": [
    "%load_ext autoreload"
   ]
  },
  {
   "cell_type": "code",
   "execution_count": 4,
   "metadata": {},
   "outputs": [],
   "source": [
    "%autoreload 2"
   ]
  },
  {
   "cell_type": "code",
   "execution_count": 27,
   "metadata": {},
   "outputs": [],
   "source": [
    "import gym\n",
    "import numpy as np\n",
    "import random\n",
    "import matplotlib.pyplot as plt\n",
    "import tqdm\n",
    "import tensorflow as tf\n",
    "%matplotlib inline"
   ]
  },
  {
   "cell_type": "code",
   "execution_count": 5,
   "metadata": {},
   "outputs": [],
   "source": [
    "env = gym.make('FrozenLake-v0')"
   ]
  },
  {
   "cell_type": "code",
   "execution_count": 24,
   "metadata": {},
   "outputs": [
    {
     "name": "stderr",
     "output_type": "stream",
     "text": [
      "100%|██████████| 2000/2000 [00:03<00:00, 577.47it/s]"
     ]
    },
    {
     "name": "stdout",
     "output_type": "stream",
     "text": [
      "0.5045\n"
     ]
    },
    {
     "name": "stderr",
     "output_type": "stream",
     "text": [
      "\n"
     ]
    }
   ],
   "source": [
    "Q = np.zeros([env.observation_space.n, env.action_space.n])\n",
    "\n",
    "lr = 0.85\n",
    "gamma = 0.99\n",
    "num_episodes = 2000\n",
    "\n",
    "rewards = []\n",
    "\n",
    "for i_episode in tqdm.tqdm(range(num_episodes)):\n",
    "    observation = env.reset()\n",
    "    rewards_sum = 0\n",
    "    \n",
    "    for t in range(100):\n",
    "        available_actions_rewards = Q[observation, :]\n",
    "        random_rewards_vector = np.random.randn(1, env.action_space.n)\n",
    "        greedy_action = np.argmax(available_actions_rewards + random_rewards_vector * (1. / (i_episode + 1)))\n",
    "        \n",
    "        observation_after, reward, done, _ = env.step(greedy_action)\n",
    "        \n",
    "        reward_expected = Q[observation, greedy_action]\n",
    "        best_next_reward = np.max(Q[observation_after, :])\n",
    "        Q[observation, greedy_action] = reward_expected + lr * (reward + gamma * best_next_reward - reward_expected)\n",
    "        \n",
    "        rewards_sum += reward\n",
    "        observation = observation_after\n",
    "        if done:\n",
    "            break\n",
    "    \n",
    "    rewards.append(rewards_sum)\n",
    "    \n",
    "print(sum(rewards) / num_episodes)"
   ]
  },
  {
   "cell_type": "code",
   "execution_count": 25,
   "metadata": {},
   "outputs": [
    {
     "name": "stdout",
     "output_type": "stream",
     "text": [
      "[[  3.49740608e-01   8.08446167e-03   8.46672286e-03   8.51027963e-03]\n",
      " [  1.91078458e-03   1.98719131e-04   1.25998849e-06   4.12917508e-01]\n",
      " [  2.32468252e-03   1.83697164e-03   6.79611121e-03   3.20629526e-01]\n",
      " [  8.93124235e-04   2.10759833e-04   7.57633581e-03   3.15062905e-01]\n",
      " [  5.45275795e-01   6.61156489e-03   1.30173165e-03   1.95483535e-03]\n",
      " [  0.00000000e+00   0.00000000e+00   0.00000000e+00   0.00000000e+00]\n",
      " [  4.58067523e-04   4.37604942e-05   4.06364804e-01   2.53347701e-05]\n",
      " [  0.00000000e+00   0.00000000e+00   0.00000000e+00   0.00000000e+00]\n",
      " [  6.29516540e-03   8.32084441e-04   1.82947567e-03   6.78799392e-01]\n",
      " [  0.00000000e+00   3.14667011e-01   5.25239063e-05   0.00000000e+00]\n",
      " [  2.84848695e-01   0.00000000e+00   0.00000000e+00   0.00000000e+00]\n",
      " [  0.00000000e+00   0.00000000e+00   0.00000000e+00   0.00000000e+00]\n",
      " [  0.00000000e+00   0.00000000e+00   0.00000000e+00   0.00000000e+00]\n",
      " [  0.00000000e+00   0.00000000e+00   8.38640090e-01   0.00000000e+00]\n",
      " [  0.00000000e+00   0.00000000e+00   0.00000000e+00   9.07837364e-01]\n",
      " [  0.00000000e+00   0.00000000e+00   0.00000000e+00   0.00000000e+00]]\n"
     ]
    }
   ],
   "source": [
    "print(Q)"
   ]
  },
  {
   "cell_type": "code",
   "execution_count": 68,
   "metadata": {},
   "outputs": [],
   "source": [
    "tf.reset_default_graph()"
   ]
  },
  {
   "cell_type": "code",
   "execution_count": 69,
   "metadata": {},
   "outputs": [],
   "source": [
    "# Forward\n",
    "inputs = tf.placeholder(shape=[1, 16], dtype=tf.float32)\n",
    "W = tf.Variable(tf.random_uniform([16,4], 0, 0.01))\n",
    "Q_out = tf.matmul(inputs, W)\n",
    "prediction = tf.argmax(Q_out, 1)\n",
    "\n",
    "# Loss\n",
    "Q_next = tf.placeholder(shape=[1, 4], dtype=tf.float32)\n",
    "loss = tf.reduce_sum(tf.square(Q_next - Q_out))\n",
    "trainer = tf.train.GradientDescentOptimizer(learning_rate=0.1)\n",
    "update_model = trainer.minimize(loss)"
   ]
  },
  {
   "cell_type": "code",
   "execution_count": 71,
   "metadata": {},
   "outputs": [
    {
     "name": "stderr",
     "output_type": "stream",
     "text": [
      "100%|██████████| 2000/2000 [01:06<00:00, 29.96it/s]\n"
     ]
    },
    {
     "data": {
      "text/plain": [
       "0.315"
      ]
     },
     "execution_count": 71,
     "metadata": {},
     "output_type": "execute_result"
    }
   ],
   "source": [
    "init = tf.initialize_all_variables()\n",
    "\n",
    "gamma = .99\n",
    "epsilon = .1\n",
    "num_episodes = 2000\n",
    "\n",
    "steps = []\n",
    "rewards = []\n",
    "\n",
    "with tf.Session() as session:\n",
    "    session.run(init)\n",
    "    \n",
    "    for i_episode in tqdm.tqdm(range(num_episodes)):\n",
    "        observation = env.reset()\n",
    "        rewards_sum = 0\n",
    "        \n",
    "        for t in range(100):\n",
    "            \n",
    "            onehot_state = np.identity(16)[observation: observation + 1]\n",
    "            greedy_action, all_Q = session.run([prediction, Q_out], feed_dict={inputs: onehot_state})\n",
    "            \n",
    "            if np.random.rand(1) < epsilon:\n",
    "                greedy_action[0] = env.action_space.sample()\n",
    "                \n",
    "            observation_after, reward, done, _ = env.step(greedy_action[0])\n",
    "            \n",
    "            onehot_state_after = np.identity(16)[observation_after: observation_after + 1]\n",
    "            Q = session.run(Q_out, feed_dict={inputs: onehot_state_after})\n",
    "            Q_max = np.max(Q)\n",
    "            Q_target = all_Q\n",
    "            Q_target[0, greedy_action[0]] = reward + gamma * Q_max\n",
    "            \n",
    "#             onehot_state = np.identity(16)[observation: observation + 1]\n",
    "            _, W_after = session.run([update_model, W], feed_dict={inputs: onehot_state, Q_next: Q_target})\n",
    "            \n",
    "            rewards_sum += reward\n",
    "            observation = observation_after\n",
    "            \n",
    "            if done:\n",
    "                epsilon = 1./(i_episode / 50. + 10.)\n",
    "                break\n",
    "                \n",
    "        steps.append(t)\n",
    "        rewards.append(reward)\n",
    "        \n",
    "sum(rewards) / num_episodes"
   ]
  },
  {
   "cell_type": "code",
   "execution_count": 72,
   "metadata": {},
   "outputs": [
    {
     "data": {
      "text/plain": [
       "<matplotlib.collections.PathCollection at 0x126ce2e10>"
      ]
     },
     "execution_count": 72,
     "metadata": {},
     "output_type": "execute_result"
    },
    {
     "name": "stderr",
     "output_type": "stream",
     "text": [
      "/Users/derrkater/anaconda/envs/gym_openai/lib/python3.5/site-packages/matplotlib/figure.py:2267: UserWarning: This figure includes Axes that are not compatible with tight_layout, so results might be incorrect.\n",
      "  warnings.warn(\"This figure includes Axes that are not compatible \"\n"
     ]
    },
    {
     "data": {
      "image/png": "[encoded data removed]",
      "text/plain": [
       "<Figure size 432x288 with 1 Axes>"
      ]
     },
     "metadata": {},
     "output_type": "display_data"
    }
   ],
   "source": [
    "plt.scatter(range(100), rewards[-100:])"
   ]
  },
  {
   "cell_type": "code",
   "execution_count": 73,
   "metadata": {},
   "outputs": [
    {
     "data": {
      "text/plain": [
       "[<matplotlib.lines.Line2D at 0x1239d9da0>]"
      ]
     },
     "execution_count": 73,
     "metadata": {},
     "output_type": "execute_result"
    },
    {
     "name": "stderr",
     "output_type": "stream",
     "text": [
      "/Users/derrkater/anaconda/envs/gym_openai/lib/python3.5/site-packages/matplotlib/figure.py:2267: UserWarning: This figure includes Axes that are not compatible with tight_layout, so results might be incorrect.\n",
      "  warnings.warn(\"This figure includes Axes that are not compatible \"\n"
     ]
    },
    {
     "data": {
      "image/png": "[encoded data removed]",
      "text/plain": [
       "<Figure size 432x288 with 1 Axes>"
      ]
     },
     "metadata": {},
     "output_type": "display_data"
    }
   ],
   "source": [
    "plt.plot(steps)"
   ]
  },
  {
   "cell_type": "code",
   "execution_count": null,
   "metadata": {},
   "outputs": [],
   "source": []
  }
 ],
 "metadata": {
  "kernelspec": {
   "display_name": "Python 3",
   "language": "python",
   "name": "python3"
  },
  "language_info": {
   "codemirror_mode": {
    "name": "ipython",
    "version": 3
   },
   "file_extension": ".py",
   "mimetype": "text/x-python",
   "name": "python",
   "nbconvert_exporter": "python",
   "pygments_lexer": "ipython3",
   "version": "3.5.4"
  }
 },
 "nbformat": 4,
 "nbformat_minor": 2
}
