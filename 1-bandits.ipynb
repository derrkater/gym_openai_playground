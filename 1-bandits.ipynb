{
 "cells": [
  {
   "cell_type": "markdown",
   "metadata": {},
   "source": [
    "81% success of guessing -5 bandit is the most optimal one."
   ]
  },
  {
   "cell_type": "code",
   "execution_count": 1,
   "metadata": {},
   "outputs": [
    {
     "name": "stderr",
     "output_type": "stream",
     "text": [
      "/Users/derrkater/anaconda/envs/gym_openai/lib/python3.5/importlib/_bootstrap.py:222: RuntimeWarning: compiletime version 3.6 of module 'tensorflow.python.framework.fast_tensor_util' does not match runtime version 3.5\n",
      "  return f(*args, **kwds)\n"
     ]
    }
   ],
   "source": [
    "import tensorflow as tf\n",
    "import numpy as np\n",
    "import tqdm"
   ]
  },
  {
   "cell_type": "code",
   "execution_count": 2,
   "metadata": {},
   "outputs": [],
   "source": [
    "bandits = [0.2, 0, -0.2, -5.]\n",
    "num_bandits = len(bandits)\n",
    "def use_bandit(bandit):\n",
    "    result = np.random.randn(1)  # 1-D np.array with a pseudo random number normal distributed around 0.\n",
    "    if result > bandit:\n",
    "        return 1\n",
    "    else:\n",
    "        return -1"
   ]
  },
  {
   "cell_type": "code",
   "execution_count": 3,
   "metadata": {},
   "outputs": [],
   "source": [
    "tf.reset_default_graph()\n",
    "\n",
    "lr = 0.001\n",
    "\n",
    "# Forward\n",
    "weights = tf.Variable(tf.ones([num_bandits]))\n",
    "chosen_action = tf.argmax(weights, 0)\n",
    "\n",
    "# Training\n",
    "reward_holder = tf.placeholder(shape=[1], dtype=tf.float32)\n",
    "action_holder = tf.placeholder(shape=[1], dtype=tf.int32)\n",
    "responsible_weight = tf.slice(weights, action_holder, [1])\n",
    "loss = -(tf.log(responsible_weight) * reward_holder)\n",
    "optimizer = tf.train.GradientDescentOptimizer(learning_rate=lr)\n",
    "update = optimizer.minimize(loss)"
   ]
  },
  {
   "cell_type": "code",
   "execution_count": 4,
   "metadata": {},
   "outputs": [
    {
     "name": "stdout",
     "output_type": "stream",
     "text": [
      "WARNING:tensorflow:From /Users/derrkater/anaconda/envs/gym_openai/lib/python3.5/site-packages/tensorflow/python/util/tf_should_use.py:118: initialize_all_variables (from tensorflow.python.ops.variables) is deprecated and will be removed after 2017-03-02.\n",
      "Instructions for updating:\n",
      "Use `tf.global_variables_initializer` instead.\n"
     ]
    },
    {
     "name": "stderr",
     "output_type": "stream",
     "text": [
      "100%|██████████| 200/200 [02:36<00:00,  1.28it/s]\n"
     ]
    },
    {
     "data": {
      "text/plain": [
       "0.81000000000000005"
      ]
     },
     "execution_count": 4,
     "metadata": {},
     "output_type": "execute_result"
    }
   ],
   "source": [
    "total_episodes = 1000\n",
    "e = 0.1  # Chance of random action\n",
    "verbose = False\n",
    "\n",
    "init = tf.initialize_all_variables()\n",
    "\n",
    "trials_n = 200\n",
    "trials = []\n",
    "for t in tqdm.tqdm(range(trials_n)):\n",
    "    total_reward = np.zeros(num_bandits)\n",
    "    with tf.Session() as sess:\n",
    "        sess.run(init)\n",
    "        for i in range(total_episodes):\n",
    "\n",
    "            if np.random.rand(1) < e:\n",
    "                action = np.random.randint(num_bandits)\n",
    "            else:\n",
    "                action = sess.run(chosen_action)\n",
    "\n",
    "            reward = use_bandit(bandits[action])\n",
    "\n",
    "            feed_dict = {reward_holder: [reward], action_holder: [action]}\n",
    "            _, resp, ww = sess.run([update, responsible_weight, weights], feed_dict=feed_dict)\n",
    "            total_reward[action] += reward\n",
    "            if verbose and not i % 50:\n",
    "                print(\"Running reward for the {} bandits: {}.\".format(num_bandits, total_reward))\n",
    "            \n",
    "    if verbose:\n",
    "        print(\"The agent think bandit {} is the most promising...\".format(np.argmax(ww)))\n",
    "        \n",
    "    trials.append(np.argmax(ww) == 3)\n",
    "    \n",
    "sum(trials)/trials_n"
   ]
  },
  {
   "cell_type": "code",
   "execution_count": null,
   "metadata": {},
   "outputs": [],
   "source": []
  }
 ],
 "metadata": {
  "kernelspec": {
   "display_name": "Python 3",
   "language": "python",
   "name": "python3"
  },
  "language_info": {
   "codemirror_mode": {
    "name": "ipython",
    "version": 3
   },
   "file_extension": ".py",
   "mimetype": "text/x-python",
   "name": "python",
   "nbconvert_exporter": "python",
   "pygments_lexer": "ipython3",
   "version": "3.5.4"
  }
 },
 "nbformat": 4,
 "nbformat_minor": 2
}
